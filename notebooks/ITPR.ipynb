{
 "cells": [
  {
   "cell_type": "markdown",
   "metadata": {},
   "source": [
    "# ITPR"
   ]
  },
  {
   "cell_type": "markdown",
   "metadata": {},
   "source": [
    "Imports, etc..."
   ]
  },
  {
   "cell_type": "code",
   "execution_count": 11,
   "metadata": {},
   "outputs": [
    {
     "name": "stdout",
     "output_type": "stream",
     "text": [
      "The autoreload extension is already loaded. To reload it, use:\n",
      "  %reload_ext autoreload\n"
     ]
    }
   ],
   "source": [
    "%load_ext autoreload\n",
    "%autoreload 2"
   ]
  },
  {
   "cell_type": "code",
   "execution_count": 12,
   "metadata": {},
   "outputs": [],
   "source": [
    "import warnings\n",
    "import pyrootutils"
   ]
  },
  {
   "cell_type": "code",
   "execution_count": 13,
   "metadata": {},
   "outputs": [],
   "source": [
    "warnings.filterwarnings(\"ignore\")\n",
    "root = pyrootutils.setup_root(\n",
    "    search_from=\".\",\n",
    "    indicator=[\".git\", \"pyproject.toml\"],\n",
    "    pythonpath=True,\n",
    "    dotenv=True,\n",
    "    cwd=True,\n",
    ")"
   ]
  },
  {
   "cell_type": "code",
   "execution_count": 14,
   "metadata": {},
   "outputs": [],
   "source": [
    "from typing import List, Tuple\n",
    "import pandas as pd\n",
    "import random\n",
    "import math\n",
    "import numpy as np\n",
    "from tqdm import tqdm\n",
    "import matplotlib.pyplot as plt\n",
    "\n",
    "from itpr import *"
   ]
  },
  {
   "cell_type": "code",
   "execution_count": 15,
   "metadata": {},
   "outputs": [],
   "source": [
    "from itpr.tables import TABLE"
   ]
  },
  {
   "cell_type": "markdown",
   "metadata": {},
   "source": [
    "## Table 5"
   ]
  },
  {
   "cell_type": "code",
   "execution_count": 25,
   "metadata": {},
   "outputs": [
    {
     "name": "stdout",
     "output_type": "stream",
     "text": [
      "IPTR (Case 1): 0.875\n",
      "IPTR (Case 2): 0.000\n",
      "IPTR (Case 3): 0.969\n",
      "IPTR (Case 4): 0.875\n",
      "IPTR (Case 5): 0.500\n"
     ]
    }
   ],
   "source": [
    "print(f\"IPTR (Case 1): {calculate_ITPR(TABLE['id'], TABLE['age_1']):.3f}\")\n",
    "print(f\"IPTR (Case 2): {calculate_ITPR(TABLE['id'], TABLE['age_2']):.3f}\")\n",
    "print(f\"IPTR (Case 3): {calculate_ITPR(TABLE['id'], TABLE['age_3']):.3f}\")\n",
    "print(f\"IPTR (Case 4): {calculate_ITPR(TABLE['id'], TABLE['age_4']):.3f}\")\n",
    "print(f\"IPTR (Case 5): {calculate_ITPR(TABLE['id'], TABLE['age_5']):.3f}\")"
   ]
  },
  {
   "cell_type": "markdown",
   "metadata": {},
   "source": [
    "## Figure 1\n",
    "\n",
    "From Section 5:\n",
    "\n",
    "<blockquote>\n",
    "In this section, we provide the experimental results for the ITPR metric, compared to the discrimination rate,mutual information, conditional privacy, maximum information leakage, and entropy l-diversity metrics.\n",
    "\n",
    "To assess the behavior of the functions of these metrics, we first calculated the metric values for a dataset of 10,000 records, containing two distinct $Y$ attribute values (for example, $y_1 = Male$ and $y_2 = Female$).\n",
    "\n",
    "We denote by 𝜖 the maximum difference between the number of occurrences of the values of the attribute $Y$:\n",
    "\n",
    "$ \\epsilon = \\mathrm{max}_{y_1,y_2 \\in \\Omega_Y} ( occ(y_1) - occ(y_2) )$\n",
    "\n",
    "where $\\Omega_Y$ denotes the set of distinct values of $Y$ and $occ()$ is a function that returns the number of occurrences of a value. Obviously, the bigger the value of $\\epsilon$ is, the smaller the number of occurrences of $y_1$ or $y_2$ will be, resulting in a high re-identification risk.\n",
    "</blockquote>"
   ]
  },
  {
   "cell_type": "markdown",
   "metadata": {},
   "source": [
    "The paper does not say anything else about the data used to produce Figure 1...\n",
    "\n",
    "Ok $Y$ had two possible values, what about $X$?"
   ]
  },
  {
   "cell_type": "code",
   "execution_count": 17,
   "metadata": {},
   "outputs": [],
   "source": [
    "n_records = 10_000\n",
    "possible_values = [\"m\", \"f\"]\n",
    "n_values_x = 5 # how many?"
   ]
  },
  {
   "cell_type": "code",
   "execution_count": 18,
   "metadata": {},
   "outputs": [],
   "source": [
    "def get_itpr_for_diff(diff: int, n_records: int, n_values_x: int = 5) -> Tuple[int, float]:\n",
    "    \"\"\"ITPR for difference.\"\"\"\n",
    "    frequencies = [n_records - diff, diff]\n",
    "    eps = frequencies[0] - frequencies[1]\n",
    "    Y = []\n",
    "    for y, f in zip(possible_values, frequencies):\n",
    "        Y += [y] * f\n",
    "    assert n_records == len(Y)\n",
    "    Y = pd.Series(Y)\n",
    "    X = pd.Series([0] * len(Y)) # contant\n",
    "    X = pd.Series(random.choices(list(range(n_values_x)), k=len(Y)))\n",
    "    return eps, calculate_ITPR(X, Y)"
   ]
  },
  {
   "cell_type": "code",
   "execution_count": 19,
   "metadata": {},
   "outputs": [
    {
     "name": "stderr",
     "output_type": "stream",
     "text": [
      "  0%|          | 0/1667 [00:00<?, ?it/s]"
     ]
    },
    {
     "name": "stderr",
     "output_type": "stream",
     "text": [
      "100%|██████████| 1667/1667 [00:22<00:00, 75.63it/s]\n"
     ]
    }
   ],
   "source": [
    "all_eps = []\n",
    "all_itpr = []\n",
    "for diff in tqdm(list(range(1, int(n_records/2), 3))):\n",
    "    eps, itpr = get_itpr_for_diff(diff, n_records, n_values_x=n_values_x)\n",
    "    all_eps.append(eps)\n",
    "    all_itpr.append(itpr)"
   ]
  },
  {
   "cell_type": "code",
   "execution_count": 20,
   "metadata": {},
   "outputs": [
    {
     "data": {
      "image/png": "[encoded data removed]",
      "text/plain": [
       "<Figure size 640x480 with 1 Axes>"
      ]
     },
     "metadata": {},
     "output_type": "display_data"
    }
   ],
   "source": [
    "plt.plot(all_eps, all_itpr)\n",
    "plt.xlim(0, max(all_eps))\n",
    "plt.xlabel(\"$\\epsilon$\")\n",
    "plt.ylabel(\"ITPR\")\n",
    "plt.title(f\"n_values_x={n_values_x}\")\n",
    "plt.show()"
   ]
  },
  {
   "cell_type": "code",
   "execution_count": null,
   "metadata": {},
   "outputs": [],
   "source": []
  }
 ],
 "metadata": {
  "kernelspec": {
   "display_name": "iptr",
   "language": "python",
   "name": "python3"
  },
  "language_info": {
   "codemirror_mode": {
    "name": "ipython",
    "version": 3
   },
   "file_extension": ".py",
   "mimetype": "text/x-python",
   "name": "python",
   "nbconvert_exporter": "python",
   "pygments_lexer": "ipython3",
   "version": "3.10.10"
  }
 },
 "nbformat": 4,
 "nbformat_minor": 2
}
